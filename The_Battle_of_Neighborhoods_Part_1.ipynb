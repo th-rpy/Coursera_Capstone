{
  "nbformat": 4,
  "nbformat_minor": 0,
  "metadata": {
    "kernelspec": {
      "display_name": "Python 3.5",
      "name": "python3",
      "language": "python"
    },
    "language_info": {
      "mimetype": "text/x-python",
      "nbconvert_exporter": "python",
      "version": "3.5.5",
      "name": "python",
      "file_extension": ".py",
      "pygments_lexer": "ipython3",
      "codemirror_mode": {
        "version": 3,
        "name": "ipython"
      }
    },
    "colab": {
      "name": "The Battle of Neighborhoods - Part-1.ipynb",
      "version": "0.3.2",
      "provenance": []
    }
  },
  "cells": [
    {
      "cell_type": "markdown",
      "metadata": {
        "collapsed": true,
        "id": "2sdPay2HFM0-",
        "colab_type": "text"
      },
      "source": [
        "## The Battle of the Neighborhoods - Week 1"
      ]
    },
    {
      "cell_type": "markdown",
      "metadata": {
        "id": "kZP0bLVFFM1E",
        "colab_type": "text"
      },
      "source": [
        "### Introduction & Business Problem :"
      ]
    },
    {
      "cell_type": "markdown",
      "metadata": {
        "id": "I6RRAo4EFM1F",
        "colab_type": "text"
      },
      "source": [
        "###  Problem Background:"
      ]
    },
    {
      "cell_type": "markdown",
      "metadata": {
        "id": "Yudzq7T6FM1G",
        "colab_type": "text"
      },
      "source": [
        "New York City, is the most populous city in the United States. It is diverse and is the financial capital of the United States of America. It is multicultural. It provides a lot of business opportunities and a friendly business environment. It has attracted many different players in the market. It is a global center for business and commerce. The city is a major hub for banking, finance, retail, global trade, transportation, tourism, real estate, new media, traditional media, advertising, legal services, accounting, insurance, theater, fashion, and the arts in the United States.\n",
        "\n",
        "This also means that the market is very competitive. As a highly developed city, the cost of doing business is also one of the highest. Thus, any new business or expansion needs careful analysis. The ideas from the analysis will provide a good understanding of the business environment that helps strategically target the market. This will help reduce risk. The return on investment would be reasonable."
      ]
    },
    {
      "cell_type": "markdown",
      "metadata": {
        "id": "OmaZpljQFM1H",
        "colab_type": "text"
      },
      "source": [
        "###  Problem Description:"
      ]
    },
    {
      "cell_type": "markdown",
      "metadata": {
        "id": "ZtBdpU2PFM1I",
        "colab_type": "text"
      },
      "source": [
        "A restaurant is a business which prepares and serves food and drink to customers in return for money, either paid before the meal, after the meal, or with an open account. The City of New York is famous for its excelllent cuisine. It's food culture includes an array of international cuisines influenced by the city's immigrant history.<Br> \n",
        "1. Central and Eastern European immigrants, especially Jewish immigrants - bagels, cheesecake, hot dogs, knishes, and delicatessens<Br> \n",
        "2. Italian immigrants - New York-style pizza and Italian cuisine<Br>\n",
        "3. Jewish immigrants and Irish immigrants - pastrami and corned beef<Br>\n",
        "4. Chinese and other Asian restaurants, sandwich joints, trattorias, diners, and coffeehouses are ubiquitous throughout the city<Br>\n",
        "5. mobile food vendors - Some 4,000 licensed by the city<Br>\n",
        "6. Middle Eastern foods such as falafel and kebabs examples of modern New York street food<Br>\n",
        "7. It is famous for not just Pizzerias, Cafe's but also for fine dining Michelin starred restaurants.The city is home to \"nearly one thousand of the finest and most diverse haute cuisine restaurants in the world\", according to Michelin. \n",
        "\n",
        "So it is evident that to survive in such competitive market it is very important to startegically plan. Various factors need to be studied inorder to decide on the Location such as : <Br>\n",
        "1. New York Population <Br>\n",
        "2. New York City Demographics <Br>\n",
        "2. Are there any Farmers Markets, Wholesale markets etc nearby so that the ingredients can be purchased fresh to maintain quality and cost?<Br>\n",
        "3. Are there any venues like Gyms, Entertainmnet zones, Parks etc nearby where floating population is high etc <Br>\n",
        "4. Who are the competitors in that location? <Br>\n",
        "5. Cuisine served / Menu of the competitors <Br>\n",
        "6. Segmentation of the Borough <Br>\n",
        "7. Untapped markets <Br>\n",
        "8. Saturated markets etc<Br>\n",
        "The list can go on...\n",
        "    \n",
        "Eventhough well funded XYZ Company Ltd. need to choose the correct location to start its first venture.If this is successful they can replicate the same in other locations. First move is very important, thereby choice of location is very important."
      ]
    },
    {
      "cell_type": "markdown",
      "metadata": {
        "id": "VlzVpTIWFM1K",
        "colab_type": "text"
      },
      "source": [
        "### Target Audience:"
      ]
    },
    {
      "cell_type": "markdown",
      "metadata": {
        "id": "kL02elA8FM1L",
        "colab_type": "text"
      },
      "source": [
        "To recommend the correct location, XYZ Company Ltd has appointed me to lead of the Data Science team. The objective is to locate and recommend to the management which neighborhood of Newyork city will be best choice to start a restaurant. The Management also expects to understand the rationale of the recommendations made.\n",
        "\n",
        "This would interest anyone who wants to start a new restaurant in Newyork city."
      ]
    },
    {
      "cell_type": "markdown",
      "metadata": {
        "id": "P4aCSO9lFM1M",
        "colab_type": "text"
      },
      "source": [
        "###  Success Criteria:"
      ]
    },
    {
      "cell_type": "markdown",
      "metadata": {
        "id": "BHWLnHyxFM1P",
        "colab_type": "text"
      },
      "source": [
        "The success criteria of the project will be a good recommendation of borough/Neighborhood choice to XYZ Company Ltd based on Lack of such restaurants in that location and nearest suppliers of ingredients."
      ]
    }
  ]
}